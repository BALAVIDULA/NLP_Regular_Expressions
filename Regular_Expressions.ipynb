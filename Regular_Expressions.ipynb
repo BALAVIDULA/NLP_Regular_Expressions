{
  "cells": [
    {
      "cell_type": "code",
      "execution_count": 1,
      "id": "98308c2b",
      "metadata": {
        "id": "98308c2b"
      },
      "outputs": [],
      "source": [
        "import nltk"
      ]
    },
    {
      "cell_type": "code",
      "execution_count": 2,
      "id": "1774c691",
      "metadata": {
        "id": "1774c691"
      },
      "outputs": [],
      "source": [
        "import re"
      ]
    },
    {
      "cell_type": "code",
      "execution_count": 3,
      "id": "849824db",
      "metadata": {
        "id": "849824db"
      },
      "outputs": [],
      "source": [
        "text = \"tom and jerry and spike since 1990 runs in 4 channels, 1234567 people liked it\"\n",
        "z = re.findall(r'[b-f]',text)"
      ]
    },
    {
      "cell_type": "code",
      "execution_count": 4,
      "id": "090cdf6d",
      "metadata": {
        "id": "090cdf6d",
        "outputId": "fa64263f-793a-419a-ec6e-0ba5bf06931f",
        "colab": {
          "base_uri": "https://localhost:8080/"
        }
      },
      "outputs": [
        {
          "output_type": "execute_result",
          "data": {
            "text/plain": [
              "['d', 'e', 'd', 'e', 'c', 'e', 'c', 'e', 'e', 'e', 'e', 'd']"
            ]
          },
          "metadata": {},
          "execution_count": 4
        }
      ],
      "source": [
        "z"
      ]
    },
    {
      "cell_type": "code",
      "execution_count": 5,
      "id": "8541a653",
      "metadata": {
        "id": "8541a653"
      },
      "outputs": [],
      "source": [
        "z = re.findall(r'[2-5]',text)"
      ]
    },
    {
      "cell_type": "code",
      "execution_count": 6,
      "id": "fe823258",
      "metadata": {
        "id": "fe823258",
        "outputId": "b41a477f-6bbd-4fc4-aa06-88054efb2eaf",
        "colab": {
          "base_uri": "https://localhost:8080/"
        }
      },
      "outputs": [
        {
          "output_type": "execute_result",
          "data": {
            "text/plain": [
              "['4', '2', '3', '4', '5']"
            ]
          },
          "metadata": {},
          "execution_count": 6
        }
      ],
      "source": [
        "z"
      ]
    },
    {
      "cell_type": "code",
      "execution_count": 7,
      "id": "2b39d290",
      "metadata": {
        "id": "2b39d290",
        "outputId": "6d83a5e1-b77d-4a96-b2df-95fb11024345",
        "colab": {
          "base_uri": "https://localhost:8080/"
        }
      },
      "outputs": [
        {
          "output_type": "execute_result",
          "data": {
            "text/plain": [
              "['t']"
            ]
          },
          "metadata": {},
          "execution_count": 7
        }
      ],
      "source": [
        "z=re.findall(r'(^t)', text)\n",
        "z"
      ]
    },
    {
      "cell_type": "code",
      "execution_count": 8,
      "id": "a924bb60",
      "metadata": {
        "id": "a924bb60"
      },
      "outputs": [],
      "source": [
        "z=re.findall(r'liked it?',text)"
      ]
    },
    {
      "cell_type": "code",
      "execution_count": 9,
      "id": "e583eeb9",
      "metadata": {
        "id": "e583eeb9",
        "outputId": "5888e7e9-4424-4749-e36d-8ae49f48252f",
        "colab": {
          "base_uri": "https://localhost:8080/"
        }
      },
      "outputs": [
        {
          "output_type": "execute_result",
          "data": {
            "text/plain": [
              "['liked it']"
            ]
          },
          "metadata": {},
          "execution_count": 9
        }
      ],
      "source": [
        "z"
      ]
    },
    {
      "cell_type": "code",
      "execution_count": 10,
      "id": "ee9b7bd4",
      "metadata": {
        "id": "ee9b7bd4"
      },
      "outputs": [],
      "source": [
        "z=re.findall(r'an.*y',text)"
      ]
    },
    {
      "cell_type": "code",
      "execution_count": 11,
      "id": "2898325f",
      "metadata": {
        "id": "2898325f",
        "outputId": "7e4cb311-dd4a-43fc-c206-fe89a05edcf8",
        "colab": {
          "base_uri": "https://localhost:8080/"
        }
      },
      "outputs": [
        {
          "output_type": "execute_result",
          "data": {
            "text/plain": [
              "['and jerry']"
            ]
          },
          "metadata": {},
          "execution_count": 11
        }
      ],
      "source": [
        "z"
      ]
    },
    {
      "cell_type": "code",
      "execution_count": 12,
      "id": "f8ea509f",
      "metadata": {
        "id": "f8ea509f",
        "outputId": "3da63e97-f76b-4fc1-b1c4-6fee719bda77",
        "colab": {
          "base_uri": "https://localhost:8080/"
        }
      },
      "outputs": [
        {
          "output_type": "execute_result",
          "data": {
            "text/plain": [
              "['jerry and spike since 1990']"
            ]
          },
          "metadata": {},
          "execution_count": 12
        }
      ],
      "source": [
        "z = re.findall(r'j.+0',text)\n",
        "z"
      ]
    },
    {
      "cell_type": "code",
      "execution_count": 13,
      "id": "205a0ea4",
      "metadata": {
        "id": "205a0ea4",
        "outputId": "72d38424-9140-4f78-d530-98cfdc1aecda",
        "colab": {
          "base_uri": "https://localhost:8080/"
        }
      },
      "outputs": [
        {
          "output_type": "execute_result",
          "data": {
            "text/plain": [
              "['t',\n",
              " 'o',\n",
              " 'm',\n",
              " ' ',\n",
              " 'a',\n",
              " 'n',\n",
              " 'd',\n",
              " ' ',\n",
              " 'j',\n",
              " 'e',\n",
              " 'r',\n",
              " 'r',\n",
              " 'y',\n",
              " ' ',\n",
              " 'a',\n",
              " 'n',\n",
              " 'd',\n",
              " ' ',\n",
              " 's',\n",
              " 'p',\n",
              " 'i',\n",
              " 'k',\n",
              " 'e',\n",
              " ' ',\n",
              " 's',\n",
              " 'i',\n",
              " 'n',\n",
              " 'c',\n",
              " 'e',\n",
              " ' ',\n",
              " '1',\n",
              " '9',\n",
              " '9',\n",
              " '0',\n",
              " ' ',\n",
              " 'r',\n",
              " 'u',\n",
              " 'n',\n",
              " 's',\n",
              " ' ',\n",
              " 'i',\n",
              " 'n',\n",
              " ' ',\n",
              " '4',\n",
              " ' ',\n",
              " 'c',\n",
              " 'h',\n",
              " 'a',\n",
              " 'n',\n",
              " 'n',\n",
              " 'e',\n",
              " 'l',\n",
              " 's',\n",
              " ',',\n",
              " ' ',\n",
              " '1',\n",
              " '2',\n",
              " '3',\n",
              " '4',\n",
              " '5',\n",
              " '6',\n",
              " '7',\n",
              " ' ',\n",
              " 'p',\n",
              " 'e',\n",
              " 'o',\n",
              " 'p',\n",
              " 'l',\n",
              " 'e',\n",
              " ' ',\n",
              " 'l',\n",
              " 'i',\n",
              " 'k',\n",
              " 'e',\n",
              " 'd',\n",
              " ' ',\n",
              " 'i',\n",
              " 't']"
            ]
          },
          "metadata": {},
          "execution_count": 13
        }
      ],
      "source": [
        "z = re.findall(r'.',text)\n",
        "z"
      ]
    },
    {
      "cell_type": "code",
      "execution_count": 14,
      "id": "675c81d3",
      "metadata": {
        "id": "675c81d3",
        "outputId": "cf5506e2-727c-4f9c-b220-11db2e8476a4",
        "colab": {
          "base_uri": "https://localhost:8080/"
        }
      },
      "outputs": [
        {
          "output_type": "execute_result",
          "data": {
            "text/plain": [
              "['tom', 'jerry']"
            ]
          },
          "metadata": {},
          "execution_count": 14
        }
      ],
      "source": [
        "z=re.findall(r'tom|jerry',text)\n",
        "z"
      ]
    },
    {
      "cell_type": "code",
      "execution_count": 15,
      "id": "bce9d7e9",
      "metadata": {
        "id": "bce9d7e9"
      },
      "outputs": [],
      "source": [
        "z=re.findall(r'\\b spike \\b',text)"
      ]
    },
    {
      "cell_type": "code",
      "execution_count": 16,
      "id": "f70d61b7",
      "metadata": {
        "id": "f70d61b7",
        "outputId": "05b3218e-4582-42e0-aac5-a76b4e4db73f",
        "colab": {
          "base_uri": "https://localhost:8080/"
        }
      },
      "outputs": [
        {
          "output_type": "execute_result",
          "data": {
            "text/plain": [
              "[' spike ']"
            ]
          },
          "metadata": {},
          "execution_count": 16
        }
      ],
      "source": [
        "z"
      ]
    },
    {
      "cell_type": "code",
      "execution_count": 17,
      "id": "90135d78",
      "metadata": {
        "id": "90135d78",
        "outputId": "e97636da-b519-4a37-b1cf-4cc6f2b5c7ba",
        "colab": {
          "base_uri": "https://localhost:8080/"
        }
      },
      "outputs": [
        {
          "output_type": "execute_result",
          "data": {
            "text/plain": [
              "[]"
            ]
          },
          "metadata": {},
          "execution_count": 17
        }
      ],
      "source": [
        "z=re.findall(r'\\B jerry \\B',text)\n",
        "z"
      ]
    },
    {
      "cell_type": "code",
      "execution_count": 18,
      "id": "2f9d21d2",
      "metadata": {
        "id": "2f9d21d2",
        "outputId": "6b4bcffe-53fc-4794-a78b-8f7e8ff6115b",
        "colab": {
          "base_uri": "https://localhost:8080/"
        }
      },
      "outputs": [
        {
          "output_type": "execute_result",
          "data": {
            "text/plain": [
              "['a', 'a']"
            ]
          },
          "metadata": {},
          "execution_count": 18
        }
      ],
      "source": [
        "z=re.findall(r'[^a-zA-Z](A|a)nd[^a-zA-Z]',text)\n",
        "z"
      ]
    },
    {
      "cell_type": "code",
      "execution_count": 18,
      "id": "85d79a6c",
      "metadata": {
        "id": "85d79a6c"
      },
      "outputs": [],
      "source": []
    }
  ],
  "metadata": {
    "kernelspec": {
      "display_name": "Python 3 (ipykernel)",
      "language": "python",
      "name": "python3"
    },
    "language_info": {
      "codemirror_mode": {
        "name": "ipython",
        "version": 3
      },
      "file_extension": ".py",
      "mimetype": "text/x-python",
      "name": "python",
      "nbconvert_exporter": "python",
      "pygments_lexer": "ipython3",
      "version": "3.11.4"
    },
    "colab": {
      "provenance": []
    }
  },
  "nbformat": 4,
  "nbformat_minor": 5
}